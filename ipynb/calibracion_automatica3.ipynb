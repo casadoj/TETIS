{
 "cells": [
  {
   "cell_type": "markdown",
   "metadata": {},
   "source": [
    "_Autor:_    __Jesús Casado__ <br> _Revisión:_ __12/09/2019__ <br>\n",
    "\n",
    "__Introducción__<br>\n",
    "\n",
    "\n",
    "__Cosas que arreglar__ <br>\n",
    "\n",
    "***\n",
    "\n",
    "__Índice__ <br>"
   ]
  },
  {
   "cell_type": "code",
   "execution_count": 1,
   "metadata": {},
   "outputs": [],
   "source": [
    "# %load calibracion_automatica2.py\n",
    "import os\n",
    "# ruta = os.getcwd() + '/'\n",
    "ruta = 'F:/Proyectos/GESDIVAH/SDM/TETIS/PdE/Actual/'\n",
    "#src = os.path.abspath(os.path.join(ruta , '..'))\n",
    "# src = 'F:/Proyectos/GESDIVAH/Pruebas_TETIS/TETIS/desagregar/sintetico/1276-Cares/'\n",
    "import numpy as np\n",
    "import pandas as pd\n",
    "import sys\n",
    "from shutil import copyfile\n",
    "sys.path.insert(0, 'F://Codigo//Python//TETIS')\n",
    "from funciones_resultados_TETIS import leer_caudal, leer_SCEUA, NSE, sesgo, RMSE, KGE\n",
    "from funciones_calibracion_TETIS import crear_tet, crear_calib, lanzar_SCEUA"
   ]
  },
  {
   "cell_type": "code",
   "execution_count": 14,
   "metadata": {},
   "outputs": [],
   "source": [
    "# leer el archivo de configuración\n",
    "os.chdir(ruta)\n",
    "with open(ruta + 'Config.txt', 'r') as config:\n",
    "    conf = config.readlines()\n",
    "config.close()\n",
    "conf = [line.split()[0] for line in conf]\n",
    "stn, scn, met, calib_orig, OF, start = conf[0], conf[1], conf[2], conf[3], conf[4], conf[5]\n",
    "if scn == '#':\n",
    "    scn = ''\n",
    "del conf"
   ]
  },
  {
   "cell_type": "code",
   "execution_count": 15,
   "metadata": {},
   "outputs": [
    {
     "data": {
      "text/plain": [
       "('1265', '', 'met2', 'Calib.txt', '365', '6')"
      ]
     },
     "execution_count": 15,
     "metadata": {},
     "output_type": "execute_result"
    }
   ],
   "source": [
    "stn, scn, met, calib_orig, start, OF"
   ]
  },
  {
   "cell_type": "code",
   "execution_count": 16,
   "metadata": {},
   "outputs": [],
   "source": [
    "# Importar archivo de calibración de partida\n",
    "calib = pd.read_csv(ruta + '/'  + calib_orig, header=None)\n",
    "idx = ['FC' + str(i) for i in range(1, 10)] + ['FC0', 'Bnieve', 'DDF1', 'DDF2', 'Tb', 'Bppt', 'USLE1', 'USLE2', 'USLE3', 'p1', 'H3max']\n",
    "calib.index = idx\n",
    "calib = calib[0]\n",
    "# convertir en NaN los parametros a calibrar\n",
    "par_cal = ['FC3', 'FC4', 'FC5', 'FC6', 'FC7', 'FC8', 'FC9', 'H3max']\n",
    "calib[par_cal] = np.NaN"
   ]
  },
  {
   "cell_type": "code",
   "execution_count": 17,
   "metadata": {},
   "outputs": [
    {
     "data": {
      "text/plain": [
       "FC1       1.0\n",
       "FC2       1.0\n",
       "FC3       NaN\n",
       "FC4       NaN\n",
       "FC5       NaN\n",
       "FC6       NaN\n",
       "FC7       NaN\n",
       "FC8       NaN\n",
       "FC9       NaN\n",
       "FC0       1.0\n",
       "Bnieve    1.0\n",
       "DDF1      1.0\n",
       "DDF2      1.0\n",
       "Tb        1.0\n",
       "Bppt      0.0\n",
       "USLE1     1.0\n",
       "USLE2     1.0\n",
       "USLE3     1.0\n",
       "p1        0.0\n",
       "H3max     NaN\n",
       "Name: 0, dtype: float64"
      ]
     },
     "execution_count": 17,
     "metadata": {},
     "output_type": "execute_result"
    }
   ],
   "source": [
    "calib"
   ]
  },
  {
   "cell_type": "code",
   "execution_count": 18,
   "metadata": {},
   "outputs": [],
   "source": [
    "############\n",
    "# MÉTODO 1 #\n",
    "############\n",
    "if met == 'met1':\n",
    "    print('############')\n",
    "    print('# MÉTODO 1 #')\n",
    "    print('############')\n",
    "    \n",
    "    # Paso 1. Crear archivos del modelo\n",
    "    # ---------------------------------\n",
    "    crear_tet(ruta, stn, scn, met, flow='total')\n",
    "    \n",
    "    # Paso 2. Calibrar el caudal total\n",
    "    # --------------------------------\n",
    "    print('CALIBRACIÓN DEL CAUDAL TOTAL')\n",
    "    print('----------------------------')\n",
    "    # Definir parámetros del modelo\n",
    "    crear_calib(calib, ruta, 'total', met)\n",
    "    # Crear archivo de configuración de la calibración automática\n",
    "    #crear_VarSCEUA(par_cal, ruta, 'total', met, start=start, OF=OF)\n",
    "    varfile = 'Var-SCEUA_total_' + met + '.txt'\n",
    "    copyfile(src + '/' + varfile, ruta + '/' + varfile)\n",
    "    # Lanzar la calibración automática\n",
    "    lanzar_SCEUA(ruta, 'total', met, scn)\n",
    "    try:\n",
    "        calib = lanzar_SCEUA.calib\n",
    "        obs_total = lanzar_SCEUA.obs\n",
    "        sim_total = lanzar_SCEUA.sim\n",
    "    except:\n",
    "        print('No fue posible simular')"
   ]
  },
  {
   "cell_type": "code",
   "execution_count": 19,
   "metadata": {},
   "outputs": [
    {
     "name": "stdout",
     "output_type": "stream",
     "text": [
      "############\n",
      "# MÉTODO 2 #\n",
      "############\n"
     ]
    }
   ],
   "source": [
    "############\n",
    "# MÉTODO 2 #\n",
    "############        \n",
    "if met == 'met2':\n",
    "    print('############')\n",
    "    print('# MÉTODO 2 #')\n",
    "    print('############')\n",
    "    \n",
    "    # Paso 1. Crear archvos del modelo\n",
    "    # ---------------------------------\n",
    "    crear_tet(ruta, stn, scn, met, flow='quick')\n",
    "    crear_tet(ruta, stn, scn, met, flow='slow')\n",
    "    crear_tet(ruta, stn, scn, met, flow='total')"
   ]
  },
  {
   "cell_type": "code",
   "execution_count": null,
   "metadata": {},
   "outputs": [],
   "source": [
    "    # Paso 2. Calibrar el caudal rápido\n",
    "    # ---------------------------------\n",
    "    print('CALIBRACIÓN DEL CAUDAL RÁPIDO')\n",
    "    print('-----------------------------')\n",
    "    # Definir parámetros del modelo\n",
    "    crear_calib(calib, ruta, 'quick', met)\n",
    "    # Crear archivo de configuración de la calibración automática\n",
    "    #crear_VarSCEUA(par_cal, ruta, 'quick', met, start=start, OF=OF)\n",
    "    varfile = 'Var-SCEUA_quick_' + met + '.txt'\n",
    "    copyfile(src + '/' + varfile, ruta + '/' + varfile)\n",
    "    "
   ]
  },
  {
   "cell_type": "code",
   "execution_count": null,
   "metadata": {},
   "outputs": [],
   "source": [
    "    # Lanzar la calibración automática\n",
    "    lanzar_SCEUA(ruta, 'quick', met, scn)\n",
    "    "
   ]
  },
  {
   "cell_type": "code",
   "execution_count": null,
   "metadata": {},
   "outputs": [],
   "source": [
    "        # importar los valores calibrados de los parametros\n",
    "        leer_SCEUA(ruta, 'Res-SCEUA_quick_' + met + '.txt')\n",
    "        pars = leer_SCEUA.parametros\n",
    "        print('NSE =', leer_SCEUA.resultados.Nash.max())\n",
    "        # importar los archivos 'Calib.txt' originales\n",
    "        calib = pd.read_csv(ruta + 'Calib_quick_' + met + '.txt', header=None)\n",
    "        calib.index = ['FC' + str(i) for i in range(1, 10)] + ['FC0', 'Bnieve', 'DDF1', 'DDF2', 'Tb', 'Bppt', 'USLE1', 'USLE2', 'USLE3', 'p1', 'H3max']\n",
    "        calib = calib[0]\n",
    "        # modificar los valores de los parametros calibrados\n",
    "        for FC in pars.index:\n",
    "            if FC[0] == 'R':\n",
    "                par_name = 'FC' + FC[1]\n",
    "            elif FC[:3] == 'Cap':\n",
    "                par_name = 'H3max'\n",
    "            calib[par_name] = pars.loc[FC, 'optimo']\n",
    "        # exportar el archivo 'Calib_'quick'.txt' modificado\n",
    "        crear_calib(calib, ruta, 'quick', met)\n",
    "        lanzar_SCEUA.calib = calib"
   ]
  },
  {
   "cell_type": "code",
   "execution_count": null,
   "metadata": {},
   "outputs": [],
   "source": [
    "    try:\n",
    "        calib_quick = lanzar_SCEUA.calib\n",
    "        #obs_quick = lanzar_SCEUA.obs\n",
    "        #sim_quick = lanzar_SCEUA.sim\n",
    "    except:\n",
    "        print('No fue posible simular')\n",
    "    print()\n",
    "        "
   ]
  },
  {
   "cell_type": "code",
   "execution_count": null,
   "metadata": {},
   "outputs": [],
   "source": [
    "calib_quick"
   ]
  },
  {
   "cell_type": "code",
   "execution_count": null,
   "metadata": {},
   "outputs": [],
   "source": [
    "    # Paso 3. Calibrar el caudal lento\n",
    "    # --------------------------------\n",
    "    print('CALIBRACIÓN DEL CAUDAL LENTO')\n",
    "    print('----------------------------')\n",
    "    # Definir parámetros del modelo\n",
    "    calib_slow = calib_quick.copy()\n",
    "    calib_slow['FC8'] = np.nan # para dar el valor por defecto a 'FC8'\n",
    "    crear_calib(calib_slow, ruta, 'slow', met)\n",
    "    # Crear archivo de configuración de la calibración automática\n",
    "    #crear_VarSCEUA(par_cal, ruta, 'slow', met, start=start, OF=OF)\n",
    "    varfile = 'Var-SCEUA_slow_' + met + '.txt'\n",
    "    copyfile(src + '/' + varfile, ruta + '/' + varfile)"
   ]
  },
  {
   "cell_type": "code",
   "execution_count": null,
   "metadata": {},
   "outputs": [],
   "source": [
    "    # Lanzar la calibración automática\n",
    "    lanzar_SCEUA(ruta, 'slow', met, scn)"
   ]
  },
  {
   "cell_type": "code",
   "execution_count": null,
   "metadata": {},
   "outputs": [],
   "source": [
    "        # importar los valores calibrados de los parametros\n",
    "        leer_SCEUA(ruta, 'Res-SCEUA_slow_' + met + '.txt')\n",
    "        pars = leer_SCEUA.parametros\n",
    "        print('NSE =', leer_SCEUA.resultados.Nash.max())\n",
    "        # importar los archivos 'Calib.txt' originales\n",
    "        calib = pd.read_csv(ruta + 'Calib_slow_' + met + '.txt', header=None)\n",
    "        calib.index = ['FC' + str(i) for i in range(1, 10)] + ['FC0', 'Bnieve', 'DDF1', 'DDF2', 'Tb', 'Bppt', 'USLE1', 'USLE2', 'USLE3', 'p1', 'H3max']\n",
    "        calib = calib[0]\n",
    "        # modificar los valores de los parametros calibrados\n",
    "        for FC in pars.index:\n",
    "            if FC[0] == 'R':\n",
    "                par_name = 'FC' + FC[1]\n",
    "            elif FC[:3] == 'Cap':\n",
    "                par_name = 'H3max'\n",
    "            calib[par_name] = pars.loc[FC, 'optimo']\n",
    "        # exportar el archivo 'Calib_'slow'.txt' modificado\n",
    "        crear_calib(calib, ruta, 'slow', met)\n",
    "        lanzar_SCEUA.calib = calib"
   ]
  },
  {
   "cell_type": "code",
   "execution_count": null,
   "metadata": {},
   "outputs": [],
   "source": [
    "    try:\n",
    "        calib_slow = lanzar_SCEUA.calib\n",
    "        #obs_slow = lanzar_SCEUA.obs\n",
    "        #sim_slow = lanzar_SCEUA.sim\n",
    "    except:\n",
    "        print('No fue posible simular')\n",
    "    print()"
   ]
  },
  {
   "cell_type": "code",
   "execution_count": null,
   "metadata": {},
   "outputs": [],
   "source": [
    "    # Paso 4. Calibracion caudal total\n",
    "    # --------------------------------\n",
    "    print('CALIBRACIÓN DEL CAUDAL TOTAL')\n",
    "    print('----------------------------')\n",
    "    # Definir parámetros del modelo\n",
    "    calib_total = calib_quick.copy()\n",
    "    calib_total[['FC7', 'FC8']] = calib_slow[['FC7', 'FC8']]\n",
    "    crear_calib(calib_total, ruta, 'total', met)\n",
    "    "
   ]
  },
  {
   "cell_type": "code",
   "execution_count": null,
   "metadata": {},
   "outputs": [],
   "source": [
    "    # Crear archivo de configuración de la calibración automática\n",
    "    #crear_VarSCEUA(par_cal, ruta, 'total', met, start=start, OF=OF)\n",
    "    varfile = 'Var-SCEUA_total_' + met + '.txt'\n",
    "    copyfile(src + '/' + varfile, ruta + '/' + varfile)\n",
    "    # Lanzar la calibración automática\n",
    "    lanzar_SCEUA(ruta, 'total', met, scn)\n",
    "    try:\n",
    "        calib = lanzar_SCEUA.calib\n",
    "        obs_total = lanzar_SCEUA.obs\n",
    "        sim_total = lanzar_SCEUA.sim\n",
    "    except:\n",
    "        print('No fue posible simular')"
   ]
  },
  {
   "cell_type": "code",
   "execution_count": null,
   "metadata": {},
   "outputs": [],
   "source": [
    "        # importar los valores calibrados de los parametros\n",
    "        leer_SCEUA(ruta, 'Res-SCEUA_total_' + met + '.txt')\n",
    "        pars = leer_SCEUA.parametros\n",
    "        print('NSE =', leer_SCEUA.resultados.Nash.max())\n",
    "        # importar los archivos 'Calib.txt' originales\n",
    "        calib = pd.read_csv(ruta + 'Calib_total_' + met + '.txt', header=None)\n",
    "        calib.index = ['FC' + str(i) for i in range(1, 10)] + ['FC0', 'Bnieve', 'DDF1', 'DDF2', 'Tb', 'Bppt', 'USLE1', 'USLE2', 'USLE3', 'p1', 'H3max']\n",
    "        calib = calib[0]\n",
    "        # modificar los valores de los parametros calibrados\n",
    "        for FC in pars.index:\n",
    "            if FC[0] == 'R':\n",
    "                par_name = 'FC' + FC[1]\n",
    "            elif FC[:3] == 'Cap':\n",
    "                par_name = 'H3max'\n",
    "            calib[par_name] = pars.loc[FC, 'optimo']\n",
    "        # exportar el archivo 'Calib_'total'.txt' modificado\n",
    "        crear_calib(calib, ruta, 'total', met)\n",
    "        lanzar_SCEUA.calib = calib"
   ]
  },
  {
   "cell_type": "code",
   "execution_count": null,
   "metadata": {},
   "outputs": [],
   "source": [
    "calib"
   ]
  },
  {
   "cell_type": "code",
   "execution_count": null,
   "metadata": {},
   "outputs": [],
   "source": [
    "############\n",
    "# MÉTODO 3 #\n",
    "############        \n",
    "elif met == 'met3':\n",
    "    print('############')\n",
    "    print('# MÉTODO 3 #')\n",
    "    print('############')\n",
    "    \n",
    "    # Paso 1. Crear archivos del modelo\n",
    "    # ---------------------------------\n",
    "    crear_tet(ruta, stn, scn, met, flow='quick')\n",
    "    crear_tet(ruta, stn, scn, met, flow='slow')\n",
    "    crear_tet(ruta, stn, scn, met, flow='total')\n",
    "\n",
    "    # Paso 2. Calibrar el caudal lento\n",
    "    # --------------------------------\n",
    "    print('CALIBRACIÓN DEL CAUDAL LENTO')\n",
    "    print('----------------------------')\n",
    "    # Definir parámetros del modelo\n",
    "    crear_calib(calib, ruta, 'slow', met)\n",
    "    # Crear archivo de configuración de la calibración automática\n",
    "    #crear_VarSCEUA(par_cal, ruta, 'slow', met, start=start, OF=OF)\n",
    "    varfile = 'Var-SCEUA_slow_' + met + '.txt'\n",
    "    copyfile(src + '/' + varfile, ruta + '/' + varfile)\n",
    "    # Lanzar la calibración automática\n",
    "    lanzar_SCEUA(ruta, 'slow', met, scn)\n",
    "    try:\n",
    "        calib = lanzar_SCEUA.calib\n",
    "        obs_slow = lanzar_SCEUA.obs\n",
    "        sim_slow = lanzar_SCEUA.sim\n",
    "    except:\n",
    "        print('No fue posible simular')\n",
    "    print()\n",
    "        \n",
    "    # Paso 3. Calibrar el caudal rápido\n",
    "    # --------------------------------\n",
    "    print('CALIBRACIÓN DEL CAUDAL RÁPIDO')\n",
    "    print('-----------------------------')\n",
    "    # Definir parámetros del modelo\n",
    "    calib['FC6'] = np.nan # para dar el valor por defecto a 'FC6'\n",
    "    crear_calib(calib, ruta, 'quick', met)\n",
    "    # Crear archivo de configuración de la calibración automática\n",
    "    #crear_VarSCEUA(par_cal, ruta, 'quick', met, start=start, OF=OF)\n",
    "    varfile = 'Var-SCEUA_quick_' + met + '.txt'\n",
    "    copyfile(src + '/' + varfile, ruta + '/' + varfile)\n",
    "    # Lanzar la calibración automática\n",
    "    lanzar_SCEUA(ruta, 'quick', met, scn)\n",
    "    try:\n",
    "        calib = lanzar_SCEUA.calib\n",
    "        obs_quick = lanzar_SCEUA.obs\n",
    "        sim_quick = lanzar_SCEUA.sim\n",
    "    except:\n",
    "        print('No fue posible simular')\n",
    "    print()\n",
    "\n",
    "    # Paso 4. Calibracion caudal total\n",
    "    # --------------------------------\n",
    "    print('CALIBRACIÓN DEL CAUDAL TOTAL')\n",
    "    print('----------------------------')\n",
    "    # Definir parámetros del modelo\n",
    "    crear_calib(calib, ruta, 'total', met)\n",
    "    # Crear archivo de configuración de la calibración automática\n",
    "    #crear_VarSCEUA(par_cal, ruta, 'total', met, start=start, OF=OF)\n",
    "    varfile = 'Var-SCEUA_total_' + met + '.txt'\n",
    "    copyfile(src + '/' + varfile, ruta + '/' + varfile)\n",
    "    # Lanzar la calibración automática\n",
    "    lanzar_SCEUA(ruta, 'total', met, scn)\n",
    "    try:\n",
    "        calib = lanzar_SCEUA.calib\n",
    "        obs_total = lanzar_SCEUA.obs\n",
    "        sim_total = lanzar_SCEUA.sim\n",
    "    except:\n",
    "        print('No fue posible simular')\n",
    "\n",
    "        "
   ]
  },
  {
   "cell_type": "code",
   "execution_count": null,
   "metadata": {},
   "outputs": [],
   "source": [
    "############\n",
    "# MÉTODO 4 #\n",
    "############        \n",
    "elif met == 'met4':\n",
    "    print('############')\n",
    "    print('# MÉTODO 4 #')\n",
    "    print('############')\n",
    "    \n",
    "    # Paso 1. Crear archivos del modelo\n",
    "    # ---------------------------------\n",
    "    crear_tet(ruta, stn, scn, met, flow='quick')\n",
    "    crear_tet(ruta, stn, scn, met, flow='total')\n",
    "\n",
    "    # Paso 2. Calibrar el caudal rápido\n",
    "    # ---------------------------------\n",
    "    print('CALIBRACIÓN DEL CAUDAL RÁPIDO')\n",
    "    print('-----------------------------')\n",
    "    # Definir parámetros del modelo\n",
    "    crear_calib(calib, ruta, 'quick', met)\n",
    "    # Crear archivo de configuración de la calibración automática\n",
    "    #crear_VarSCEUA(par_cal, ruta, 'quick', met, start=start, OF=OF)\n",
    "    varfile = 'Var-SCEUA_quick_' + met + '.txt'\n",
    "    copyfile(src + '/' + varfile, ruta + '/' + varfile)\n",
    "    # Lanzar la calibración automática\n",
    "    lanzar_SCEUA(ruta, 'quick', met, scn)\n",
    "    try:\n",
    "        calib = lanzar_SCEUA.calib\n",
    "        obs_quick = lanzar_SCEUA.obs\n",
    "        sim_quick = lanzar_SCEUA.sim\n",
    "    except:\n",
    "        print('No fue posible simular')\n",
    "    print()\n",
    "\n",
    "    # Paso 3. Calibracion caudal total\n",
    "    # --------------------------------\n",
    "    print('CALIBRACIÓN DEL CAUDAL TOTAL')\n",
    "    print('----------------------------')\n",
    "    # Crear archivo de calibración\n",
    "    calib['FC8'] = np.nan # para dar el valor por defecto a 'FC8'\n",
    "    crear_calib(calib, ruta, 'total', met)\n",
    "    # Crear archivo de configuración de la calibración automática\n",
    "    #crear_VarSCEUA(par_cal, ruta, 'total', met, start=start, OF=OF)\n",
    "    varfile = 'Var-SCEUA_total_' + met + '.txt'\n",
    "    copyfile(src + '/' + varfile, ruta + '/' + varfile)\n",
    "    # Lanzar la calibración\n",
    "    lanzar_SCEUA(ruta, 'total', met, scn)\n",
    "    try:\n",
    "        calib = lanzar_SCEUA.calib\n",
    "        obs_total = lanzar_SCEUA.obs\n",
    "        sim_total = lanzar_SCEUA.sim\n",
    "    except:\n",
    "        print('No fue posible simular')"
   ]
  },
  {
   "cell_type": "code",
   "execution_count": null,
   "metadata": {},
   "outputs": [],
   "source": []
  }
 ],
 "metadata": {
  "kernelspec": {
   "display_name": "Python 3",
   "language": "python",
   "name": "python3"
  },
  "language_info": {
   "codemirror_mode": {
    "name": "ipython",
    "version": 3
   },
   "file_extension": ".py",
   "mimetype": "text/x-python",
   "name": "python",
   "nbconvert_exporter": "python",
   "pygments_lexer": "ipython3",
   "version": "3.6.3"
  }
 },
 "nbformat": 4,
 "nbformat_minor": 2
}
